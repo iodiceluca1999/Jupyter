{
 "cells": [
  {
   "cell_type": "markdown",
   "id": "d68d20c7-2635-4733-ae73-d1fa5fc41590",
   "metadata": {},
   "source": [
    "# Data Science Tools and Ecosystem"
   ]
  },
  {
   "cell_type": "markdown",
   "id": "9f44ba94-b804-427a-8225-8a702ca5690a",
   "metadata": {},
   "source": [
    "In this notebook, Data Science Tools and Ecosystem are summarized."
   ]
  },
  {
   "cell_type": "markdown",
   "id": "0f446eb0-fc61-48b5-91a0-3289851fecbb",
   "metadata": {},
   "source": [
    "Objectives :\n",
    "- This notebook lists 3 useful languages for Data Science.\n",
    "- This notebook lists 3 development environments useful in Data Science.\n",
    "- This notebook lists 3 useful libraries for Data Science.\n"
   ]
  },
  {
   "cell_type": "markdown",
   "id": "45f96252-3180-4661-bc74-79d5526ca151",
   "metadata": {},
   "source": [
    "Some of the popular languages that Data Scientists use are:\n",
    "1. Python\n",
    "2. R\n",
    "3. Java"
   ]
  },
  {
   "cell_type": "markdown",
   "id": "ab3ca1d2-f6f4-439c-8550-06831aa168b6",
   "metadata": {},
   "source": [
    "Some of the commonly used libraries used by Data Scientists include:\n",
    "1. Matplotlib\n",
    "2. Pandas\n",
    "3. Scikit learn"
   ]
  },
  {
   "cell_type": "markdown",
   "id": "93ec18da-d637-4e29-8cf6-360df69ca29b",
   "metadata": {},
   "source": [
    "| Data Science Tools |\n",
    "|--------------------|\n",
    "| Jupyter Notebook   |\n",
    "| Rstudio            |\n",
    "| VisualStudioCode   |"
   ]
  },
  {
   "cell_type": "markdown",
   "id": "bec6b237-20ed-4e74-9c9e-ade1b4a327ce",
   "metadata": {},
   "source": [
    "### Below are a few examples of evaluating arithmetic expressions in Python"
   ]
  },
  {
   "cell_type": "code",
   "execution_count": 1,
   "id": "fcd08a1f-5eb0-49e3-ad43-7fba11932398",
   "metadata": {
    "tags": []
   },
   "outputs": [
    {
     "data": {
      "text/plain": [
       "17"
      ]
     },
     "execution_count": 1,
     "metadata": {},
     "output_type": "execute_result"
    }
   ],
   "source": [
    "# This a simple arithmetic expression to mutiply then add integers\n",
    "(3*4)+5"
   ]
  },
  {
   "cell_type": "code",
   "execution_count": 2,
   "id": "00401038-4347-4589-83a8-2aef12ecf364",
   "metadata": {
    "tags": []
   },
   "outputs": [
    {
     "data": {
      "text/plain": [
       "3.3333333333333335"
      ]
     },
     "execution_count": 2,
     "metadata": {},
     "output_type": "execute_result"
    }
   ],
   "source": [
    "# This will convert 200 minutes to hours by diving by 60\n",
    "200 / 60"
   ]
  },
  {
   "cell_type": "markdown",
   "id": "2661f4a8-a623-4751-96bc-7bc5aa730b73",
   "metadata": {},
   "source": [
    "## Author\n",
    "   Luca Iodice"
   ]
  }
 ],
 "metadata": {
  "kernelspec": {
   "display_name": "Python",
   "language": "python",
   "name": "conda-env-python-py"
  },
  "language_info": {
   "codemirror_mode": {
    "name": "ipython",
    "version": 3
   },
   "file_extension": ".py",
   "mimetype": "text/x-python",
   "name": "python",
   "nbconvert_exporter": "python",
   "pygments_lexer": "ipython3",
   "version": "3.7.12"
  }
 },
 "nbformat": 4,
 "nbformat_minor": 5
}
